{
 "cells": [
  {
   "cell_type": "code",
   "execution_count": 1,
   "id": "d81e3863",
   "metadata": {},
   "outputs": [],
   "source": [
    "import os\n",
    "import pandas as pd\n",
    "import numpy as np\n",
    "from cycler import cycler\n",
    "import matplotlib.pyplot as plt\n",
    "from bs4 import BeautifulSoup\n",
    "\n",
    "from sklearn.tree import DecisionTreeClassifier\n",
    "from sklearn.model_selection import cross_val_score\n",
    "from sklearn.model_selection import train_test_split\n",
    "import warnings\n",
    "warnings.filterwarnings('ignore')"
   ]
  },
  {
   "cell_type": "markdown",
   "id": "6e6705df",
   "metadata": {},
   "source": [
    "# Crawling Data using BeautifulSoup"
   ]
  },
  {
   "cell_type": "code",
   "execution_count": 2,
   "id": "7b106592",
   "metadata": {},
   "outputs": [],
   "source": [
    "url = 'D:/פרויקט מדעי הנתונים - נדלן חולון/NADLAN.html'\n",
    "page = open(url, encoding=\"utf8\")\n",
    "soup = BeautifulSoup(page.read())"
   ]
  },
  {
   "cell_type": "code",
   "execution_count": 3,
   "id": "72e47e94",
   "metadata": {},
   "outputs": [],
   "source": [
    "tables = soup.find_all('div', {'class': \"tableCol\"})"
   ]
  },
  {
   "cell_type": "code",
   "execution_count": 4,
   "id": "81719b58",
   "metadata": {},
   "outputs": [],
   "source": [
    "table_list = []\n",
    "\n",
    "for table in tables:\n",
    "    table_list.append(table.text)"
   ]
  },
  {
   "cell_type": "code",
   "execution_count": 5,
   "id": "231b9cbc",
   "metadata": {
    "scrolled": true
   },
   "outputs": [],
   "source": [
    "for i in range(len(table_list)):\n",
    "    #print(table_list[i].strip())\n",
    "    table_list[i] = table_list[i].strip()"
   ]
  },
  {
   "cell_type": "code",
   "execution_count": 6,
   "id": "804a7c40",
   "metadata": {},
   "outputs": [],
   "source": [
    "Date = []\n",
    "Month = []\n",
    "Address = []\n",
    "Room = []\n",
    "Size = []\n",
    "Price = []\n",
    "Change = []\n",
    "Variance = []\n",
    "\n",
    "lsize = len(table_list)\n",
    "\n",
    "for i in range(int(lsize/10)):\n",
    "    Date.append(table_list[i*10])\n",
    "    Month.append(int(table_list[i*10][3:5]))\n",
    "\n",
    "    adress = table_list[(i*10)+1]\n",
    "    adress = adress.split(' ')    \n",
    "    Address.append(' '.join(adress[:-1]))\n",
    "    \n",
    "    Room.append(float(table_list[(i*10)+4]))\n",
    "\n",
    "    size = table_list[(i*10)+6]\n",
    "    if not size == '':\n",
    "        Size.append(float(size))\n",
    "    else:\n",
    "        Size.append(0)\n",
    "\n",
    "    price = table_list[(i*10)+7]\n",
    "    price = price.replace(',', '')\n",
    "    Price.append(float(price))\n",
    "\n",
    "    change = table_list[(i*10)+8]\n",
    "    change = change.split(' ')\n",
    "    if len(change) == 4:\n",
    "        percent = float(change[0][:-1])\n",
    "        period = float(change[2])\n",
    "        Variance.append(float(percent/period))\n",
    "    else:\n",
    "        Variance.append(0)\n",
    "    Change.append(table_list[(i*10)+8])"
   ]
  },
  {
   "cell_type": "code",
   "execution_count": 7,
   "id": "37aeea0e",
   "metadata": {},
   "outputs": [],
   "source": [
    "df = pd.DataFrame({\"יום מכירה\":Date,\n",
    "                   \"חודש למכור\":Month,\n",
    "                   \"כתובת\": Address,\n",
    "                   \"חדרים\": Room,\n",
    "                   'מ\"ר': Size,\n",
    "                   \"סכום\": Price,\n",
    "                  \"מגמת שינוי\": Change,\n",
    "                  \"שונות\":Variance})\n",
    "\n",
    "df.to_csv('D:/פרויקט מדעי הנתונים - נדלן חולון/Final DB.csv', encoding = 'utf-8-sig', index_label='#')"
   ]
  },
  {
   "cell_type": "code",
   "execution_count": 8,
   "id": "f6b3a051",
   "metadata": {},
   "outputs": [
    {
     "data": {
      "text/html": [
       "<div>\n",
       "<style scoped>\n",
       "    .dataframe tbody tr th:only-of-type {\n",
       "        vertical-align: middle;\n",
       "    }\n",
       "\n",
       "    .dataframe tbody tr th {\n",
       "        vertical-align: top;\n",
       "    }\n",
       "\n",
       "    .dataframe thead th {\n",
       "        text-align: right;\n",
       "    }\n",
       "</style>\n",
       "<table border=\"1\" class=\"dataframe\">\n",
       "  <thead>\n",
       "    <tr style=\"text-align: right;\">\n",
       "      <th></th>\n",
       "      <th>יום מכירה</th>\n",
       "      <th>חודש למכור</th>\n",
       "      <th>כתובת</th>\n",
       "      <th>חדרים</th>\n",
       "      <th>מ\"ר</th>\n",
       "      <th>סכום</th>\n",
       "      <th>מגמת שינוי</th>\n",
       "      <th>שונות</th>\n",
       "    </tr>\n",
       "  </thead>\n",
       "  <tbody>\n",
       "    <tr>\n",
       "      <th>0</th>\n",
       "      <td>02.11.2021</td>\n",
       "      <td>11</td>\n",
       "      <td>סוקולוב</td>\n",
       "      <td>3.0</td>\n",
       "      <td>49.72</td>\n",
       "      <td>1200000.0</td>\n",
       "      <td></td>\n",
       "      <td>0.000000</td>\n",
       "    </tr>\n",
       "    <tr>\n",
       "      <th>1</th>\n",
       "      <td>31.10.2021</td>\n",
       "      <td>10</td>\n",
       "      <td>אלעזר דוד</td>\n",
       "      <td>3.0</td>\n",
       "      <td>62.00</td>\n",
       "      <td>1500000.0</td>\n",
       "      <td></td>\n",
       "      <td>0.000000</td>\n",
       "    </tr>\n",
       "    <tr>\n",
       "      <th>2</th>\n",
       "      <td>30.10.2021</td>\n",
       "      <td>10</td>\n",
       "      <td>לבון פנחס</td>\n",
       "      <td>5.0</td>\n",
       "      <td>102.00</td>\n",
       "      <td>1600000.0</td>\n",
       "      <td></td>\n",
       "      <td>0.000000</td>\n",
       "    </tr>\n",
       "    <tr>\n",
       "      <th>3</th>\n",
       "      <td>29.10.2021</td>\n",
       "      <td>10</td>\n",
       "      <td>חיטמן עוזי</td>\n",
       "      <td>4.0</td>\n",
       "      <td>91.00</td>\n",
       "      <td>2625000.0</td>\n",
       "      <td>140% ב 14.3 שנים</td>\n",
       "      <td>9.790210</td>\n",
       "    </tr>\n",
       "    <tr>\n",
       "      <th>4</th>\n",
       "      <td>26.10.2021</td>\n",
       "      <td>10</td>\n",
       "      <td>מונטיפיורי</td>\n",
       "      <td>3.0</td>\n",
       "      <td>58.91</td>\n",
       "      <td>1600000.0</td>\n",
       "      <td>32% ב 17.9 שנים</td>\n",
       "      <td>1.787709</td>\n",
       "    </tr>\n",
       "    <tr>\n",
       "      <th>...</th>\n",
       "      <td>...</td>\n",
       "      <td>...</td>\n",
       "      <td>...</td>\n",
       "      <td>...</td>\n",
       "      <td>...</td>\n",
       "      <td>...</td>\n",
       "      <td>...</td>\n",
       "      <td>...</td>\n",
       "    </tr>\n",
       "    <tr>\n",
       "      <th>23835</th>\n",
       "      <td>30.12.2009</td>\n",
       "      <td>12</td>\n",
       "      <td>שמריהו לוין</td>\n",
       "      <td>4.0</td>\n",
       "      <td>102.60</td>\n",
       "      <td>1600000.0</td>\n",
       "      <td></td>\n",
       "      <td>0.000000</td>\n",
       "    </tr>\n",
       "    <tr>\n",
       "      <th>23836</th>\n",
       "      <td>30.12.2009</td>\n",
       "      <td>12</td>\n",
       "      <td>גבעת התחמושת</td>\n",
       "      <td>4.0</td>\n",
       "      <td>87.98</td>\n",
       "      <td>1250000.0</td>\n",
       "      <td></td>\n",
       "      <td>0.000000</td>\n",
       "    </tr>\n",
       "    <tr>\n",
       "      <th>23837</th>\n",
       "      <td>30.12.2009</td>\n",
       "      <td>12</td>\n",
       "      <td>איריס</td>\n",
       "      <td>3.0</td>\n",
       "      <td>70.90</td>\n",
       "      <td>985000.0</td>\n",
       "      <td></td>\n",
       "      <td>0.000000</td>\n",
       "    </tr>\n",
       "    <tr>\n",
       "      <th>23838</th>\n",
       "      <td>29.12.2009</td>\n",
       "      <td>12</td>\n",
       "      <td>הגלעד</td>\n",
       "      <td>3.0</td>\n",
       "      <td>50.00</td>\n",
       "      <td>849000.0</td>\n",
       "      <td>65% ב 11.3 שנים</td>\n",
       "      <td>5.752212</td>\n",
       "    </tr>\n",
       "    <tr>\n",
       "      <th>23839</th>\n",
       "      <td>29.12.2009</td>\n",
       "      <td>12</td>\n",
       "      <td>בן-נון יוחאי</td>\n",
       "      <td>5.0</td>\n",
       "      <td>116.00</td>\n",
       "      <td>1800000.0</td>\n",
       "      <td></td>\n",
       "      <td>0.000000</td>\n",
       "    </tr>\n",
       "  </tbody>\n",
       "</table>\n",
       "<p>23840 rows × 8 columns</p>\n",
       "</div>"
      ],
      "text/plain": [
       "        יום מכירה  חודש למכור         כתובת  חדרים     מ\"ר       סכום  \\\n",
       "0      02.11.2021          11       סוקולוב    3.0   49.72  1200000.0   \n",
       "1      31.10.2021          10     אלעזר דוד    3.0   62.00  1500000.0   \n",
       "2      30.10.2021          10     לבון פנחס    5.0  102.00  1600000.0   \n",
       "3      29.10.2021          10    חיטמן עוזי    4.0   91.00  2625000.0   \n",
       "4      26.10.2021          10    מונטיפיורי    3.0   58.91  1600000.0   \n",
       "...           ...         ...           ...    ...     ...        ...   \n",
       "23835  30.12.2009          12   שמריהו לוין    4.0  102.60  1600000.0   \n",
       "23836  30.12.2009          12  גבעת התחמושת    4.0   87.98  1250000.0   \n",
       "23837  30.12.2009          12         איריס    3.0   70.90   985000.0   \n",
       "23838  29.12.2009          12         הגלעד    3.0   50.00   849000.0   \n",
       "23839  29.12.2009          12  בן-נון יוחאי    5.0  116.00  1800000.0   \n",
       "\n",
       "             מגמת שינוי     שונות  \n",
       "0                        0.000000  \n",
       "1                        0.000000  \n",
       "2                        0.000000  \n",
       "3      140% ב 14.3 שנים  9.790210  \n",
       "4       32% ב 17.9 שנים  1.787709  \n",
       "...                 ...       ...  \n",
       "23835                    0.000000  \n",
       "23836                    0.000000  \n",
       "23837                    0.000000  \n",
       "23838   65% ב 11.3 שנים  5.752212  \n",
       "23839                    0.000000  \n",
       "\n",
       "[23840 rows x 8 columns]"
      ]
     },
     "execution_count": 8,
     "metadata": {},
     "output_type": "execute_result"
    }
   ],
   "source": [
    "df"
   ]
  },
  {
   "cell_type": "markdown",
   "id": "b8d34915",
   "metadata": {},
   "source": [
    "# Pre-processing"
   ]
  },
  {
   "cell_type": "markdown",
   "id": "f84f049c",
   "metadata": {},
   "source": [
    "## Droping NAN values\n"
   ]
  },
  {
   "cell_type": "code",
   "execution_count": 9,
   "id": "440a81be",
   "metadata": {},
   "outputs": [
    {
     "data": {
      "text/html": [
       "<div>\n",
       "<style scoped>\n",
       "    .dataframe tbody tr th:only-of-type {\n",
       "        vertical-align: middle;\n",
       "    }\n",
       "\n",
       "    .dataframe tbody tr th {\n",
       "        vertical-align: top;\n",
       "    }\n",
       "\n",
       "    .dataframe thead th {\n",
       "        text-align: right;\n",
       "    }\n",
       "</style>\n",
       "<table border=\"1\" class=\"dataframe\">\n",
       "  <thead>\n",
       "    <tr style=\"text-align: right;\">\n",
       "      <th></th>\n",
       "      <th>יום מכירה</th>\n",
       "      <th>חודש למכור</th>\n",
       "      <th>כתובת</th>\n",
       "      <th>חדרים</th>\n",
       "      <th>מ\"ר</th>\n",
       "      <th>סכום</th>\n",
       "      <th>מגמת שינוי</th>\n",
       "      <th>שונות</th>\n",
       "    </tr>\n",
       "  </thead>\n",
       "  <tbody>\n",
       "    <tr>\n",
       "      <th>3</th>\n",
       "      <td>29.10.2021</td>\n",
       "      <td>10</td>\n",
       "      <td>חיטמן עוזי</td>\n",
       "      <td>4.0</td>\n",
       "      <td>91.00</td>\n",
       "      <td>2625000.0</td>\n",
       "      <td>140% ב 14.3 שנים</td>\n",
       "      <td>9.790210</td>\n",
       "    </tr>\n",
       "    <tr>\n",
       "      <th>4</th>\n",
       "      <td>26.10.2021</td>\n",
       "      <td>10</td>\n",
       "      <td>מונטיפיורי</td>\n",
       "      <td>3.0</td>\n",
       "      <td>58.91</td>\n",
       "      <td>1600000.0</td>\n",
       "      <td>32% ב 17.9 שנים</td>\n",
       "      <td>1.787709</td>\n",
       "    </tr>\n",
       "    <tr>\n",
       "      <th>5</th>\n",
       "      <td>26.10.2021</td>\n",
       "      <td>10</td>\n",
       "      <td>ז'בוטינסקי</td>\n",
       "      <td>3.0</td>\n",
       "      <td>54.94</td>\n",
       "      <td>1500000.0</td>\n",
       "      <td>162% ב 14.5 שנים</td>\n",
       "      <td>11.172414</td>\n",
       "    </tr>\n",
       "    <tr>\n",
       "      <th>6</th>\n",
       "      <td>26.10.2021</td>\n",
       "      <td>10</td>\n",
       "      <td>דיין משה</td>\n",
       "      <td>5.0</td>\n",
       "      <td>106.00</td>\n",
       "      <td>2320000.0</td>\n",
       "      <td>157% ב 13.5 שנים</td>\n",
       "      <td>11.629630</td>\n",
       "    </tr>\n",
       "    <tr>\n",
       "      <th>13</th>\n",
       "      <td>22.10.2021</td>\n",
       "      <td>10</td>\n",
       "      <td>בוסתנאי</td>\n",
       "      <td>3.0</td>\n",
       "      <td>63.40</td>\n",
       "      <td>1410000.0</td>\n",
       "      <td>88% ב 12.1 שנים</td>\n",
       "      <td>7.272727</td>\n",
       "    </tr>\n",
       "    <tr>\n",
       "      <th>...</th>\n",
       "      <td>...</td>\n",
       "      <td>...</td>\n",
       "      <td>...</td>\n",
       "      <td>...</td>\n",
       "      <td>...</td>\n",
       "      <td>...</td>\n",
       "      <td>...</td>\n",
       "      <td>...</td>\n",
       "    </tr>\n",
       "    <tr>\n",
       "      <th>23820</th>\n",
       "      <td>03.01.2010</td>\n",
       "      <td>1</td>\n",
       "      <td>השיטה</td>\n",
       "      <td>4.5</td>\n",
       "      <td>107.40</td>\n",
       "      <td>1300000.0</td>\n",
       "      <td>47% ב 11 שנים</td>\n",
       "      <td>4.272727</td>\n",
       "    </tr>\n",
       "    <tr>\n",
       "      <th>23821</th>\n",
       "      <td>03.01.2010</td>\n",
       "      <td>1</td>\n",
       "      <td>ברזילי ישראל</td>\n",
       "      <td>2.5</td>\n",
       "      <td>50.31</td>\n",
       "      <td>890000.0</td>\n",
       "      <td>-6% ב 6.4 שנים</td>\n",
       "      <td>-0.937500</td>\n",
       "    </tr>\n",
       "    <tr>\n",
       "      <th>23828</th>\n",
       "      <td>31.12.2009</td>\n",
       "      <td>12</td>\n",
       "      <td>יוסף הנשיא</td>\n",
       "      <td>3.0</td>\n",
       "      <td>65.50</td>\n",
       "      <td>1025000.0</td>\n",
       "      <td>62% ב 5.6 שנים</td>\n",
       "      <td>11.071429</td>\n",
       "    </tr>\n",
       "    <tr>\n",
       "      <th>23834</th>\n",
       "      <td>30.12.2009</td>\n",
       "      <td>12</td>\n",
       "      <td>ההסתדרות</td>\n",
       "      <td>6.0</td>\n",
       "      <td>129.30</td>\n",
       "      <td>1800000.0</td>\n",
       "      <td>43% ב 0.7 שנים</td>\n",
       "      <td>61.428571</td>\n",
       "    </tr>\n",
       "    <tr>\n",
       "      <th>23838</th>\n",
       "      <td>29.12.2009</td>\n",
       "      <td>12</td>\n",
       "      <td>הגלעד</td>\n",
       "      <td>3.0</td>\n",
       "      <td>50.00</td>\n",
       "      <td>849000.0</td>\n",
       "      <td>65% ב 11.3 שנים</td>\n",
       "      <td>5.752212</td>\n",
       "    </tr>\n",
       "  </tbody>\n",
       "</table>\n",
       "<p>7473 rows × 8 columns</p>\n",
       "</div>"
      ],
      "text/plain": [
       "        יום מכירה  חודש למכור         כתובת  חדרים     מ\"ר       סכום  \\\n",
       "3      29.10.2021          10    חיטמן עוזי    4.0   91.00  2625000.0   \n",
       "4      26.10.2021          10    מונטיפיורי    3.0   58.91  1600000.0   \n",
       "5      26.10.2021          10    ז'בוטינסקי    3.0   54.94  1500000.0   \n",
       "6      26.10.2021          10      דיין משה    5.0  106.00  2320000.0   \n",
       "13     22.10.2021          10       בוסתנאי    3.0   63.40  1410000.0   \n",
       "...           ...         ...           ...    ...     ...        ...   \n",
       "23820  03.01.2010           1         השיטה    4.5  107.40  1300000.0   \n",
       "23821  03.01.2010           1  ברזילי ישראל    2.5   50.31   890000.0   \n",
       "23828  31.12.2009          12    יוסף הנשיא    3.0   65.50  1025000.0   \n",
       "23834  30.12.2009          12      ההסתדרות    6.0  129.30  1800000.0   \n",
       "23838  29.12.2009          12         הגלעד    3.0   50.00   849000.0   \n",
       "\n",
       "             מגמת שינוי      שונות  \n",
       "3      140% ב 14.3 שנים   9.790210  \n",
       "4       32% ב 17.9 שנים   1.787709  \n",
       "5      162% ב 14.5 שנים  11.172414  \n",
       "6      157% ב 13.5 שנים  11.629630  \n",
       "13      88% ב 12.1 שנים   7.272727  \n",
       "...                 ...        ...  \n",
       "23820     47% ב 11 שנים   4.272727  \n",
       "23821    -6% ב 6.4 שנים  -0.937500  \n",
       "23828    62% ב 5.6 שנים  11.071429  \n",
       "23834    43% ב 0.7 שנים  61.428571  \n",
       "23838   65% ב 11.3 שנים   5.752212  \n",
       "\n",
       "[7473 rows x 8 columns]"
      ]
     },
     "execution_count": 9,
     "metadata": {},
     "output_type": "execute_result"
    }
   ],
   "source": [
    "df = df.replace(r'^\\s*$', np.nan, regex=True)\n",
    "df =df.dropna()\n",
    "df = df[df['חדרים'] > 0]\n",
    "df"
   ]
  },
  {
   "cell_type": "markdown",
   "id": "4e42d7b3",
   "metadata": {},
   "source": [
    "## Encoding the values"
   ]
  },
  {
   "cell_type": "code",
   "execution_count": 10,
   "id": "3f2fdc3f",
   "metadata": {},
   "outputs": [
    {
     "data": {
      "text/html": [
       "<div>\n",
       "<style scoped>\n",
       "    .dataframe tbody tr th:only-of-type {\n",
       "        vertical-align: middle;\n",
       "    }\n",
       "\n",
       "    .dataframe tbody tr th {\n",
       "        vertical-align: top;\n",
       "    }\n",
       "\n",
       "    .dataframe thead th {\n",
       "        text-align: right;\n",
       "    }\n",
       "</style>\n",
       "<table border=\"1\" class=\"dataframe\">\n",
       "  <thead>\n",
       "    <tr style=\"text-align: right;\">\n",
       "      <th></th>\n",
       "      <th>יום מכירה</th>\n",
       "      <th>חודש למכור</th>\n",
       "      <th>כתובת</th>\n",
       "      <th>חדרים</th>\n",
       "      <th>מ\"ר</th>\n",
       "      <th>סכום</th>\n",
       "      <th>מגמת שינוי</th>\n",
       "      <th>שונות</th>\n",
       "      <th>מזהה</th>\n",
       "    </tr>\n",
       "  </thead>\n",
       "  <tbody>\n",
       "    <tr>\n",
       "      <th>3</th>\n",
       "      <td>29.10.2021</td>\n",
       "      <td>10</td>\n",
       "      <td>חיטמן עוזי</td>\n",
       "      <td>4.0</td>\n",
       "      <td>91.00</td>\n",
       "      <td>2625000.0</td>\n",
       "      <td>140% ב 14.3 שנים</td>\n",
       "      <td>9.790210</td>\n",
       "      <td>190</td>\n",
       "    </tr>\n",
       "    <tr>\n",
       "      <th>4</th>\n",
       "      <td>26.10.2021</td>\n",
       "      <td>10</td>\n",
       "      <td>מונטיפיורי</td>\n",
       "      <td>3.0</td>\n",
       "      <td>58.91</td>\n",
       "      <td>1600000.0</td>\n",
       "      <td>32% ב 17.9 שנים</td>\n",
       "      <td>1.787709</td>\n",
       "      <td>239</td>\n",
       "    </tr>\n",
       "    <tr>\n",
       "      <th>5</th>\n",
       "      <td>26.10.2021</td>\n",
       "      <td>10</td>\n",
       "      <td>ז'בוטינסקי</td>\n",
       "      <td>3.0</td>\n",
       "      <td>54.94</td>\n",
       "      <td>1500000.0</td>\n",
       "      <td>162% ב 14.5 שנים</td>\n",
       "      <td>11.172414</td>\n",
       "      <td>180</td>\n",
       "    </tr>\n",
       "    <tr>\n",
       "      <th>6</th>\n",
       "      <td>26.10.2021</td>\n",
       "      <td>10</td>\n",
       "      <td>דיין משה</td>\n",
       "      <td>5.0</td>\n",
       "      <td>106.00</td>\n",
       "      <td>2320000.0</td>\n",
       "      <td>157% ב 13.5 שנים</td>\n",
       "      <td>11.629630</td>\n",
       "      <td>82</td>\n",
       "    </tr>\n",
       "    <tr>\n",
       "      <th>13</th>\n",
       "      <td>22.10.2021</td>\n",
       "      <td>10</td>\n",
       "      <td>בוסתנאי</td>\n",
       "      <td>3.0</td>\n",
       "      <td>63.40</td>\n",
       "      <td>1410000.0</td>\n",
       "      <td>88% ב 12.1 שנים</td>\n",
       "      <td>7.272727</td>\n",
       "      <td>33</td>\n",
       "    </tr>\n",
       "    <tr>\n",
       "      <th>...</th>\n",
       "      <td>...</td>\n",
       "      <td>...</td>\n",
       "      <td>...</td>\n",
       "      <td>...</td>\n",
       "      <td>...</td>\n",
       "      <td>...</td>\n",
       "      <td>...</td>\n",
       "      <td>...</td>\n",
       "      <td>...</td>\n",
       "    </tr>\n",
       "    <tr>\n",
       "      <th>23820</th>\n",
       "      <td>03.01.2010</td>\n",
       "      <td>1</td>\n",
       "      <td>השיטה</td>\n",
       "      <td>4.5</td>\n",
       "      <td>107.40</td>\n",
       "      <td>1300000.0</td>\n",
       "      <td>47% ב 11 שנים</td>\n",
       "      <td>4.272727</td>\n",
       "      <td>165</td>\n",
       "    </tr>\n",
       "    <tr>\n",
       "      <th>23821</th>\n",
       "      <td>03.01.2010</td>\n",
       "      <td>1</td>\n",
       "      <td>ברזילי ישראל</td>\n",
       "      <td>2.5</td>\n",
       "      <td>50.31</td>\n",
       "      <td>890000.0</td>\n",
       "      <td>-6% ב 6.4 שנים</td>\n",
       "      <td>-0.937500</td>\n",
       "      <td>51</td>\n",
       "    </tr>\n",
       "    <tr>\n",
       "      <th>23828</th>\n",
       "      <td>31.12.2009</td>\n",
       "      <td>12</td>\n",
       "      <td>יוסף הנשיא</td>\n",
       "      <td>3.0</td>\n",
       "      <td>65.50</td>\n",
       "      <td>1025000.0</td>\n",
       "      <td>62% ב 5.6 שנים</td>\n",
       "      <td>11.071429</td>\n",
       "      <td>207</td>\n",
       "    </tr>\n",
       "    <tr>\n",
       "      <th>23834</th>\n",
       "      <td>30.12.2009</td>\n",
       "      <td>12</td>\n",
       "      <td>ההסתדרות</td>\n",
       "      <td>6.0</td>\n",
       "      <td>129.30</td>\n",
       "      <td>1800000.0</td>\n",
       "      <td>43% ב 0.7 שנים</td>\n",
       "      <td>61.428571</td>\n",
       "      <td>108</td>\n",
       "    </tr>\n",
       "    <tr>\n",
       "      <th>23838</th>\n",
       "      <td>29.12.2009</td>\n",
       "      <td>12</td>\n",
       "      <td>הגלעד</td>\n",
       "      <td>3.0</td>\n",
       "      <td>50.00</td>\n",
       "      <td>849000.0</td>\n",
       "      <td>65% ב 11.3 שנים</td>\n",
       "      <td>5.752212</td>\n",
       "      <td>100</td>\n",
       "    </tr>\n",
       "  </tbody>\n",
       "</table>\n",
       "<p>7473 rows × 9 columns</p>\n",
       "</div>"
      ],
      "text/plain": [
       "        יום מכירה  חודש למכור         כתובת  חדרים     מ\"ר       סכום  \\\n",
       "3      29.10.2021          10    חיטמן עוזי    4.0   91.00  2625000.0   \n",
       "4      26.10.2021          10    מונטיפיורי    3.0   58.91  1600000.0   \n",
       "5      26.10.2021          10    ז'בוטינסקי    3.0   54.94  1500000.0   \n",
       "6      26.10.2021          10      דיין משה    5.0  106.00  2320000.0   \n",
       "13     22.10.2021          10       בוסתנאי    3.0   63.40  1410000.0   \n",
       "...           ...         ...           ...    ...     ...        ...   \n",
       "23820  03.01.2010           1         השיטה    4.5  107.40  1300000.0   \n",
       "23821  03.01.2010           1  ברזילי ישראל    2.5   50.31   890000.0   \n",
       "23828  31.12.2009          12    יוסף הנשיא    3.0   65.50  1025000.0   \n",
       "23834  30.12.2009          12      ההסתדרות    6.0  129.30  1800000.0   \n",
       "23838  29.12.2009          12         הגלעד    3.0   50.00   849000.0   \n",
       "\n",
       "             מגמת שינוי      שונות  מזהה  \n",
       "3      140% ב 14.3 שנים   9.790210   190  \n",
       "4       32% ב 17.9 שנים   1.787709   239  \n",
       "5      162% ב 14.5 שנים  11.172414   180  \n",
       "6      157% ב 13.5 שנים  11.629630    82  \n",
       "13      88% ב 12.1 שנים   7.272727    33  \n",
       "...                 ...        ...   ...  \n",
       "23820     47% ב 11 שנים   4.272727   165  \n",
       "23821    -6% ב 6.4 שנים  -0.937500    51  \n",
       "23828    62% ב 5.6 שנים  11.071429   207  \n",
       "23834    43% ב 0.7 שנים  61.428571   108  \n",
       "23838   65% ב 11.3 שנים   5.752212   100  \n",
       "\n",
       "[7473 rows x 9 columns]"
      ]
     },
     "execution_count": 10,
     "metadata": {},
     "output_type": "execute_result"
    }
   ],
   "source": [
    "df['מזהה']= df[\"כתובת\"]\n",
    "df[\"מזהה\"] = df[\"מזהה\"].astype('category')\n",
    "df[\"מזהה\"] = df[\"מזהה\"].cat.codes\n",
    "df"
   ]
  },
  {
   "cell_type": "markdown",
   "id": "2edcd1c5",
   "metadata": {},
   "source": [
    "# EDA (Explaratory Data Analysis)"
   ]
  },
  {
   "cell_type": "markdown",
   "id": "df0b2eb2",
   "metadata": {},
   "source": [
    "## Statistical analysis"
   ]
  },
  {
   "cell_type": "code",
   "execution_count": 11,
   "id": "f19ac649",
   "metadata": {},
   "outputs": [
    {
     "data": {
      "text/html": [
       "<div>\n",
       "<style scoped>\n",
       "    .dataframe tbody tr th:only-of-type {\n",
       "        vertical-align: middle;\n",
       "    }\n",
       "\n",
       "    .dataframe tbody tr th {\n",
       "        vertical-align: top;\n",
       "    }\n",
       "\n",
       "    .dataframe thead th {\n",
       "        text-align: right;\n",
       "    }\n",
       "</style>\n",
       "<table border=\"1\" class=\"dataframe\">\n",
       "  <thead>\n",
       "    <tr style=\"text-align: right;\">\n",
       "      <th></th>\n",
       "      <th>חודש למכור</th>\n",
       "      <th>חדרים</th>\n",
       "      <th>מ\"ר</th>\n",
       "      <th>סכום</th>\n",
       "      <th>שונות</th>\n",
       "      <th>מזהה</th>\n",
       "    </tr>\n",
       "  </thead>\n",
       "  <tbody>\n",
       "    <tr>\n",
       "      <th>count</th>\n",
       "      <td>7473.000000</td>\n",
       "      <td>7473.000000</td>\n",
       "      <td>7473.000000</td>\n",
       "      <td>7.473000e+03</td>\n",
       "      <td>7473.000000</td>\n",
       "      <td>7473.000000</td>\n",
       "    </tr>\n",
       "    <tr>\n",
       "      <th>mean</th>\n",
       "      <td>6.437308</td>\n",
       "      <td>3.542352</td>\n",
       "      <td>75.492415</td>\n",
       "      <td>1.464239e+06</td>\n",
       "      <td>9.528653</td>\n",
       "      <td>182.895892</td>\n",
       "    </tr>\n",
       "    <tr>\n",
       "      <th>std</th>\n",
       "      <td>3.465509</td>\n",
       "      <td>0.929519</td>\n",
       "      <td>27.598722</td>\n",
       "      <td>5.154370e+05</td>\n",
       "      <td>13.655849</td>\n",
       "      <td>111.457619</td>\n",
       "    </tr>\n",
       "    <tr>\n",
       "      <th>min</th>\n",
       "      <td>1.000000</td>\n",
       "      <td>1.000000</td>\n",
       "      <td>0.000000</td>\n",
       "      <td>8.320300e+04</td>\n",
       "      <td>-155.000000</td>\n",
       "      <td>0.000000</td>\n",
       "    </tr>\n",
       "    <tr>\n",
       "      <th>25%</th>\n",
       "      <td>3.000000</td>\n",
       "      <td>3.000000</td>\n",
       "      <td>56.500000</td>\n",
       "      <td>1.130000e+06</td>\n",
       "      <td>5.217391</td>\n",
       "      <td>88.000000</td>\n",
       "    </tr>\n",
       "    <tr>\n",
       "      <th>50%</th>\n",
       "      <td>6.000000</td>\n",
       "      <td>3.000000</td>\n",
       "      <td>69.080000</td>\n",
       "      <td>1.400000e+06</td>\n",
       "      <td>7.878788</td>\n",
       "      <td>185.000000</td>\n",
       "    </tr>\n",
       "    <tr>\n",
       "      <th>75%</th>\n",
       "      <td>9.000000</td>\n",
       "      <td>4.000000</td>\n",
       "      <td>94.000000</td>\n",
       "      <td>1.735000e+06</td>\n",
       "      <td>11.136364</td>\n",
       "      <td>287.000000</td>\n",
       "    </tr>\n",
       "    <tr>\n",
       "      <th>max</th>\n",
       "      <td>12.000000</td>\n",
       "      <td>7.000000</td>\n",
       "      <td>777.000000</td>\n",
       "      <td>4.900000e+06</td>\n",
       "      <td>450.000000</td>\n",
       "      <td>364.000000</td>\n",
       "    </tr>\n",
       "  </tbody>\n",
       "</table>\n",
       "</div>"
      ],
      "text/plain": [
       "        חודש למכור        חדרים          מ\"ר          סכום        שונות  \\\n",
       "count  7473.000000  7473.000000  7473.000000  7.473000e+03  7473.000000   \n",
       "mean      6.437308     3.542352    75.492415  1.464239e+06     9.528653   \n",
       "std       3.465509     0.929519    27.598722  5.154370e+05    13.655849   \n",
       "min       1.000000     1.000000     0.000000  8.320300e+04  -155.000000   \n",
       "25%       3.000000     3.000000    56.500000  1.130000e+06     5.217391   \n",
       "50%       6.000000     3.000000    69.080000  1.400000e+06     7.878788   \n",
       "75%       9.000000     4.000000    94.000000  1.735000e+06    11.136364   \n",
       "max      12.000000     7.000000   777.000000  4.900000e+06   450.000000   \n",
       "\n",
       "              מזהה  \n",
       "count  7473.000000  \n",
       "mean    182.895892  \n",
       "std     111.457619  \n",
       "min       0.000000  \n",
       "25%      88.000000  \n",
       "50%     185.000000  \n",
       "75%     287.000000  \n",
       "max     364.000000  "
      ]
     },
     "execution_count": 11,
     "metadata": {},
     "output_type": "execute_result"
    }
   ],
   "source": [
    "df.describe()"
   ]
  },
  {
   "cell_type": "code",
   "execution_count": 12,
   "id": "e4e7297b",
   "metadata": {},
   "outputs": [
    {
     "data": {
      "text/html": [
       "<div>\n",
       "<style scoped>\n",
       "    .dataframe tbody tr th:only-of-type {\n",
       "        vertical-align: middle;\n",
       "    }\n",
       "\n",
       "    .dataframe tbody tr th {\n",
       "        vertical-align: top;\n",
       "    }\n",
       "\n",
       "    .dataframe thead th {\n",
       "        text-align: right;\n",
       "    }\n",
       "</style>\n",
       "<table border=\"1\" class=\"dataframe\">\n",
       "  <thead>\n",
       "    <tr style=\"text-align: right;\">\n",
       "      <th></th>\n",
       "      <th>חודש למכור</th>\n",
       "      <th>חדרים</th>\n",
       "      <th>מ\"ר</th>\n",
       "      <th>סכום</th>\n",
       "      <th>שונות</th>\n",
       "      <th>מזהה</th>\n",
       "    </tr>\n",
       "    <tr>\n",
       "      <th>כתובת</th>\n",
       "      <th></th>\n",
       "      <th></th>\n",
       "      <th></th>\n",
       "      <th></th>\n",
       "      <th></th>\n",
       "      <th></th>\n",
       "    </tr>\n",
       "  </thead>\n",
       "  <tbody>\n",
       "    <tr>\n",
       "      <th>אביבים</th>\n",
       "      <td>7.100000</td>\n",
       "      <td>3.250000</td>\n",
       "      <td>76.265000</td>\n",
       "      <td>1.339473e+06</td>\n",
       "      <td>8.054934</td>\n",
       "      <td>0</td>\n",
       "    </tr>\n",
       "    <tr>\n",
       "      <th>אבידן שמעון</th>\n",
       "      <td>5.916667</td>\n",
       "      <td>4.385417</td>\n",
       "      <td>107.645208</td>\n",
       "      <td>1.997302e+06</td>\n",
       "      <td>12.263299</td>\n",
       "      <td>1</td>\n",
       "    </tr>\n",
       "    <tr>\n",
       "      <th>אבן גבירול</th>\n",
       "      <td>6.818182</td>\n",
       "      <td>3.363636</td>\n",
       "      <td>62.843636</td>\n",
       "      <td>1.283182e+06</td>\n",
       "      <td>7.056106</td>\n",
       "      <td>2</td>\n",
       "    </tr>\n",
       "    <tr>\n",
       "      <th>אבן עזרא</th>\n",
       "      <td>8.200000</td>\n",
       "      <td>3.300000</td>\n",
       "      <td>66.504000</td>\n",
       "      <td>1.156500e+06</td>\n",
       "      <td>9.569688</td>\n",
       "      <td>3</td>\n",
       "    </tr>\n",
       "    <tr>\n",
       "      <th>אברבנאל</th>\n",
       "      <td>6.312500</td>\n",
       "      <td>2.875000</td>\n",
       "      <td>57.385625</td>\n",
       "      <td>1.112188e+06</td>\n",
       "      <td>7.276774</td>\n",
       "      <td>4</td>\n",
       "    </tr>\n",
       "    <tr>\n",
       "      <th>...</th>\n",
       "      <td>...</td>\n",
       "      <td>...</td>\n",
       "      <td>...</td>\n",
       "      <td>...</td>\n",
       "      <td>...</td>\n",
       "      <td>...</td>\n",
       "    </tr>\n",
       "    <tr>\n",
       "      <th>שרת משה</th>\n",
       "      <td>6.120482</td>\n",
       "      <td>3.343373</td>\n",
       "      <td>72.261084</td>\n",
       "      <td>1.283410e+06</td>\n",
       "      <td>9.528375</td>\n",
       "      <td>360</td>\n",
       "    </tr>\n",
       "    <tr>\n",
       "      <th>ששת הימים</th>\n",
       "      <td>7.238095</td>\n",
       "      <td>2.976190</td>\n",
       "      <td>59.000000</td>\n",
       "      <td>1.087333e+06</td>\n",
       "      <td>10.804636</td>\n",
       "      <td>361</td>\n",
       "    </tr>\n",
       "    <tr>\n",
       "      <th>תל חי</th>\n",
       "      <td>8.000000</td>\n",
       "      <td>2.000000</td>\n",
       "      <td>39.000000</td>\n",
       "      <td>1.172000e+06</td>\n",
       "      <td>7.519380</td>\n",
       "      <td>362</td>\n",
       "    </tr>\n",
       "    <tr>\n",
       "      <th>תמר</th>\n",
       "      <td>6.888889</td>\n",
       "      <td>4.962963</td>\n",
       "      <td>112.282222</td>\n",
       "      <td>2.291111e+06</td>\n",
       "      <td>6.396096</td>\n",
       "      <td>363</td>\n",
       "    </tr>\n",
       "    <tr>\n",
       "      <th>תרצ\"ו</th>\n",
       "      <td>6.521739</td>\n",
       "      <td>3.152174</td>\n",
       "      <td>62.685217</td>\n",
       "      <td>1.351304e+06</td>\n",
       "      <td>7.517731</td>\n",
       "      <td>364</td>\n",
       "    </tr>\n",
       "  </tbody>\n",
       "</table>\n",
       "<p>365 rows × 6 columns</p>\n",
       "</div>"
      ],
      "text/plain": [
       "             חודש למכור     חדרים         מ\"ר          סכום      שונות  מזהה\n",
       "כתובת                                                                       \n",
       "אביבים         7.100000  3.250000   76.265000  1.339473e+06   8.054934     0\n",
       "אבידן שמעון    5.916667  4.385417  107.645208  1.997302e+06  12.263299     1\n",
       "אבן גבירול     6.818182  3.363636   62.843636  1.283182e+06   7.056106     2\n",
       "אבן עזרא       8.200000  3.300000   66.504000  1.156500e+06   9.569688     3\n",
       "אברבנאל        6.312500  2.875000   57.385625  1.112188e+06   7.276774     4\n",
       "...                 ...       ...         ...           ...        ...   ...\n",
       "שרת משה        6.120482  3.343373   72.261084  1.283410e+06   9.528375   360\n",
       "ששת הימים      7.238095  2.976190   59.000000  1.087333e+06  10.804636   361\n",
       "תל חי          8.000000  2.000000   39.000000  1.172000e+06   7.519380   362\n",
       "תמר            6.888889  4.962963  112.282222  2.291111e+06   6.396096   363\n",
       "תרצ\"ו          6.521739  3.152174   62.685217  1.351304e+06   7.517731   364\n",
       "\n",
       "[365 rows x 6 columns]"
      ]
     },
     "execution_count": 12,
     "metadata": {},
     "output_type": "execute_result"
    }
   ],
   "source": [
    "dfx = df.groupby('כתובת').mean()\n",
    "dfx"
   ]
  },
  {
   "cell_type": "markdown",
   "id": "1d4d33ce",
   "metadata": {},
   "source": [
    "## Top 10 addresses which have high variance"
   ]
  },
  {
   "cell_type": "code",
   "execution_count": 13,
   "id": "daf2d9d6",
   "metadata": {},
   "outputs": [
    {
     "data": {
      "image/png": "[encoded data removed]",
      "text/plain": [
       "<Figure size 720x288 with 1 Axes>"
      ]
     },
     "metadata": {
      "needs_background": "light"
     },
     "output_type": "display_data"
    },
    {
     "data": {
      "text/plain": [
       "<Figure size 720x3600 with 0 Axes>"
      ]
     },
     "metadata": {},
     "output_type": "display_data"
    }
   ],
   "source": [
    "df10 = dfx.nlargest(10, 'שונות')\n",
    "x = df10[['שונות']].groupby(['כתובת']).mean()\n",
    "plt.rc('axes', prop_cycle=(cycler('color', ['b'])))\n",
    "\n",
    "ax = x.plot(kind='bar', legend = True,figsize=(10,4))\n",
    "plt.title('Top addresses which have high variance')\n",
    "plt.figure(figsize=(10,50))\n",
    "plt.show()"
   ]
  },
  {
   "cell_type": "markdown",
   "id": "2a6fd83c",
   "metadata": {},
   "source": [
    "## Top 10 addresses which have many rooms"
   ]
  },
  {
   "cell_type": "code",
   "execution_count": 14,
   "id": "f16761f5",
   "metadata": {},
   "outputs": [
    {
     "data": {
      "image/png": "[encoded data removed]",
      "text/plain": [
       "<Figure size 720x288 with 1 Axes>"
      ]
     },
     "metadata": {
      "needs_background": "light"
     },
     "output_type": "display_data"
    },
    {
     "data": {
      "text/plain": [
       "<Figure size 720x3600 with 0 Axes>"
      ]
     },
     "metadata": {},
     "output_type": "display_data"
    }
   ],
   "source": [
    "df10 = dfx.nlargest(10, 'חדרים')\n",
    "x = df10[['חדרים']].groupby(['כתובת']).mean()\n",
    "plt.rc('axes', prop_cycle=(cycler('color', ['b'])))\n",
    "\n",
    "ax = x.plot(kind='bar', legend = True,figsize=(10,4))\n",
    "plt.title('Top addresses which have many rooms')\n",
    "plt.figure(figsize=(10,50))\n",
    "plt.show()"
   ]
  },
  {
   "cell_type": "markdown",
   "id": "18ef482f",
   "metadata": {},
   "source": [
    "## Top 10 addresses which have large size"
   ]
  },
  {
   "cell_type": "code",
   "execution_count": 15,
   "id": "2f70995f",
   "metadata": {},
   "outputs": [
    {
     "data": {
      "image/png": "[encoded data removed]",
      "text/plain": [
       "<Figure size 720x288 with 1 Axes>"
      ]
     },
     "metadata": {
      "needs_background": "light"
     },
     "output_type": "display_data"
    },
    {
     "data": {
      "text/plain": [
       "<Figure size 720x3600 with 0 Axes>"
      ]
     },
     "metadata": {},
     "output_type": "display_data"
    }
   ],
   "source": [
    "df10 = dfx.nlargest(10, 'מ\"ר')\n",
    "x = df10[['מ\"ר']].groupby(['כתובת']).mean()\n",
    "plt.rc('axes', prop_cycle=(cycler('color', ['b'])))\n",
    "\n",
    "ax = x.plot(kind='bar', legend = True,figsize=(10,4))\n",
    "plt.title('Top addresses which have large size')\n",
    "plt.figure(figsize=(10,50))\n",
    "plt.show()"
   ]
  },
  {
   "cell_type": "markdown",
   "id": "5379980d",
   "metadata": {},
   "source": [
    "## Top 10 addresses which have high prices"
   ]
  },
  {
   "cell_type": "code",
   "execution_count": 16,
   "id": "e3313691",
   "metadata": {},
   "outputs": [
    {
     "data": {
      "image/png": "[encoded data removed]",
      "text/plain": [
       "<Figure size 720x288 with 1 Axes>"
      ]
     },
     "metadata": {
      "needs_background": "light"
     },
     "output_type": "display_data"
    },
    {
     "data": {
      "text/plain": [
       "<Figure size 720x3600 with 0 Axes>"
      ]
     },
     "metadata": {},
     "output_type": "display_data"
    }
   ],
   "source": [
    "df10 = dfx.nlargest(10, 'סכום')\n",
    "x = df10[['סכום']].groupby(['כתובת']).mean()\n",
    "plt.rc('axes', prop_cycle=(cycler('color', ['b'])))\n",
    "\n",
    "ax = x.plot(kind='bar', legend = True,figsize=(10,4))\n",
    "plt.title('Top addresses which have high prices')\n",
    "plt.figure(figsize=(10,50))\n",
    "plt.show()"
   ]
  },
  {
   "cell_type": "markdown",
   "id": "1fefb1e6",
   "metadata": {},
   "source": [
    "## The mean variance following to months"
   ]
  },
  {
   "cell_type": "code",
   "execution_count": 17,
   "id": "afda9ce6",
   "metadata": {},
   "outputs": [
    {
     "data": {
      "image/png": "[encoded data removed]",
      "text/plain": [
       "<Figure size 720x288 with 1 Axes>"
      ]
     },
     "metadata": {
      "needs_background": "light"
     },
     "output_type": "display_data"
    },
    {
     "data": {
      "text/plain": [
       "<Figure size 720x3600 with 0 Axes>"
      ]
     },
     "metadata": {},
     "output_type": "display_data"
    }
   ],
   "source": [
    "dfx = df.groupby('חודש למכור').mean()\n",
    "df10 = dfx.nlargest(12, 'שונות')\n",
    "x = df10[['שונות']].groupby(['חודש למכור']).mean()\n",
    "plt.rc('axes', prop_cycle=(cycler('color', ['b'])))\n",
    "\n",
    "ax = x.plot(kind='bar', legend = True,figsize=(10,4))\n",
    "plt.title('Top addresses which has high variance')\n",
    "plt.figure(figsize=(10,50))\n",
    "plt.show()"
   ]
  },
  {
   "cell_type": "markdown",
   "id": "55bd3faf",
   "metadata": {},
   "source": [
    "# Research Questions"
   ]
  },
  {
   "cell_type": "code",
   "execution_count": 27,
   "id": "384c716b",
   "metadata": {},
   "outputs": [],
   "source": [
    "def get_accuracy(dt:DecisionTreeClassifier, X, y, n_jobs):\n",
    "    return 1 - dt.score(X,y)*n_jobs\n",
    "\n",
    "def get_validation_score(cv, n_jobs):\n",
    "    clf = DecisionTreeClassifier()\n",
    "  # Perform 5-fold cross validation \n",
    "    scores = cross_val_score(estimator=clf, X=X, y=y, cv = cv, n_jobs = n_jobs)\n",
    "    return (1 - scores*n_jobs)"
   ]
  },
  {
   "cell_type": "markdown",
   "id": "5feef8eb",
   "metadata": {},
   "source": [
    "## Question 1. \n",
    "*In what address its the most recommended to buy an apartment for investment (where the price change is higher during the years)?*"
   ]
  },
  {
   "cell_type": "markdown",
   "id": "944d297c",
   "metadata": {},
   "source": [
    "### Splitting the data to make it the test and train"
   ]
  },
  {
   "cell_type": "code",
   "execution_count": 28,
   "id": "11d292c5",
   "metadata": {},
   "outputs": [],
   "source": [
    "X = df[['שונות']]\n",
    "y = df['מזהה'].values\n",
    "X_train, X_test, y_train, y_test = train_test_split(X, y, test_size=0.20, random_state=42)"
   ]
  },
  {
   "cell_type": "markdown",
   "id": "a78cf0f7",
   "metadata": {},
   "source": [
    "### Build Decision Tree Classifier"
   ]
  },
  {
   "cell_type": "code",
   "execution_count": 29,
   "id": "f2bc12e0",
   "metadata": {},
   "outputs": [
    {
     "data": {
      "text/plain": [
       "DecisionTreeClassifier()"
      ]
     },
     "execution_count": 29,
     "metadata": {},
     "output_type": "execute_result"
    }
   ],
   "source": [
    "dt = DecisionTreeClassifier()\n",
    "dt.fit(X_train, y_train)"
   ]
  },
  {
   "cell_type": "markdown",
   "id": "20f90e9c",
   "metadata": {},
   "source": [
    "### Test Accuracy"
   ]
  },
  {
   "cell_type": "code",
   "execution_count": 30,
   "id": "a0af4a11",
   "metadata": {},
   "outputs": [
    {
     "name": "stdout",
     "output_type": "stream",
     "text": [
      "Test Accuracy: 0.5451505016722408\n"
     ]
    }
   ],
   "source": [
    "cv = 5\n",
    "n_jobs = 40\n",
    "test_accuracy = get_accuracy(dt, X_test, y_test, n_jobs)\n",
    "print('Test Accuracy:', test_accuracy)"
   ]
  },
  {
   "cell_type": "markdown",
   "id": "bea7267c",
   "metadata": {},
   "source": [
    "### Find the address its the most recommended to buy an apartment for investment"
   ]
  },
  {
   "cell_type": "code",
   "execution_count": 31,
   "id": "208955f4",
   "metadata": {},
   "outputs": [
    {
     "name": "stdout",
     "output_type": "stream",
     "text": [
      "The adress which has high variance:  גולומב\n"
     ]
    }
   ],
   "source": [
    "bestID = dt.predict([[1000]])[0]\n",
    "dfx = df.groupby('כתובת').mean()\n",
    "best_adress = dfx[dfx['מזהה']==bestID].index.to_list()[0]\n",
    "print('The adress which has high variance: ', best_adress)"
   ]
  },
  {
   "cell_type": "markdown",
   "id": "04018d79",
   "metadata": {},
   "source": [
    "### Model Validation"
   ]
  },
  {
   "cell_type": "code",
   "execution_count": 32,
   "id": "a888dec0",
   "metadata": {},
   "outputs": [
    {
     "name": "stdout",
     "output_type": "stream",
     "text": [
      "[0.57190635 0.70568562 0.59866221 0.46452477 0.54484605]\n"
     ]
    },
    {
     "data": {
      "text/plain": [
       "Text(0.5, 1.0, 'Validation Accuracy')"
      ]
     },
     "execution_count": 32,
     "metadata": {},
     "output_type": "execute_result"
    },
    {
     "data": {
      "image/png": "[encoded data removed]",
      "text/plain": [
       "<Figure size 432x288 with 1 Axes>"
      ]
     },
     "metadata": {
      "needs_background": "light"
     },
     "output_type": "display_data"
    }
   ],
   "source": [
    "valid_accuracy = get_validation_score(cv, n_jobs)\n",
    "\n",
    "index = np.arange(5) + 0.3\n",
    "print(valid_accuracy)\n",
    "plt.bar(index, valid_accuracy)\n",
    "plt.ylabel(\"accuracy\")\n",
    "plt.title('Validation Accuracy')"
   ]
  },
  {
   "cell_type": "markdown",
   "id": "67f800b2",
   "metadata": {},
   "source": [
    "## Question 2. \n",
    "*Which apartment size makes the better returns on investment?*"
   ]
  },
  {
   "cell_type": "markdown",
   "id": "7e31584a",
   "metadata": {},
   "source": [
    "### Splitting the data to make it the test and train"
   ]
  },
  {
   "cell_type": "code",
   "execution_count": 33,
   "id": "6756888c",
   "metadata": {},
   "outputs": [],
   "source": [
    "X =df[['שונות']]\n",
    "y = df['מ\"ר'].values\n",
    "y = y.astype(int)\n",
    "X_train, X_test, y_train, y_test = train_test_split( X, y, test_size=0.20, random_state=42)"
   ]
  },
  {
   "cell_type": "markdown",
   "id": "2bdf4b5e",
   "metadata": {},
   "source": [
    "### Build Decision Tree Classifier"
   ]
  },
  {
   "cell_type": "code",
   "execution_count": 34,
   "id": "9c786232",
   "metadata": {},
   "outputs": [
    {
     "data": {
      "text/plain": [
       "DecisionTreeClassifier()"
      ]
     },
     "execution_count": 34,
     "metadata": {},
     "output_type": "execute_result"
    }
   ],
   "source": [
    "from sklearn.tree import DecisionTreeClassifier\n",
    "dt = DecisionTreeClassifier()\n",
    "dt.fit(X_train, y_train)"
   ]
  },
  {
   "cell_type": "markdown",
   "id": "4e3492e4",
   "metadata": {},
   "source": [
    "### Test Accuracy"
   ]
  },
  {
   "cell_type": "code",
   "execution_count": 35,
   "id": "65300ae5",
   "metadata": {},
   "outputs": [
    {
     "name": "stdout",
     "output_type": "stream",
     "text": [
      "Test Accuracy: 0.4916387959866221\n"
     ]
    }
   ],
   "source": [
    "test_accuracy = get_accuracy(dt, X_test, y_test, n_jobs)\n",
    "print('Test Accuracy:', test_accuracy)"
   ]
  },
  {
   "cell_type": "markdown",
   "id": "eb37f913",
   "metadata": {},
   "source": [
    "### Find the appartment size makes the better returns on investment."
   ]
  },
  {
   "cell_type": "code",
   "execution_count": 36,
   "id": "7bc05379",
   "metadata": {},
   "outputs": [
    {
     "name": "stdout",
     "output_type": "stream",
     "text": [
      "The apartment size makes the better returns on investment:  43\n"
     ]
    }
   ],
   "source": [
    "best_size = dt.predict([[1000]])[0]\n",
    "print('The apartment size makes the better returns on investment: ', best_size)"
   ]
  },
  {
   "cell_type": "markdown",
   "id": "c78c01b2",
   "metadata": {},
   "source": [
    "### Model Validation"
   ]
  },
  {
   "cell_type": "code",
   "execution_count": 37,
   "id": "a3114a4d",
   "metadata": {},
   "outputs": [
    {
     "name": "stdout",
     "output_type": "stream",
     "text": [
      "[0.41137124 0.51839465 0.43812709 0.3038822  0.437751  ]\n"
     ]
    },
    {
     "data": {
      "text/plain": [
       "Text(0.5, 1.0, 'Validation Accuracy')"
      ]
     },
     "execution_count": 37,
     "metadata": {},
     "output_type": "execute_result"
    },
    {
     "data": {
      "image/png": "[encoded data removed]",
      "text/plain": [
       "<Figure size 432x288 with 1 Axes>"
      ]
     },
     "metadata": {
      "needs_background": "light"
     },
     "output_type": "display_data"
    }
   ],
   "source": [
    "valid_accuracy = get_validation_score(cv, n_jobs)\n",
    "\n",
    "index = np.arange(5) + 0.3\n",
    "print(valid_accuracy)\n",
    "plt.bar(index, valid_accuracy)\n",
    "plt.ylabel(\"accuracy\")\n",
    "plt.title('Validation Accuracy')"
   ]
  },
  {
   "cell_type": "markdown",
   "id": "9df256f7",
   "metadata": {},
   "source": [
    "## Question 3. \n",
    "*What month will be the best to sell the apartment to make maximum profit?*"
   ]
  },
  {
   "cell_type": "markdown",
   "id": "469ee737",
   "metadata": {},
   "source": [
    "### Splitting the data to make it the test and train"
   ]
  },
  {
   "cell_type": "code",
   "execution_count": 38,
   "id": "26e46987",
   "metadata": {},
   "outputs": [],
   "source": [
    "X =df[['שונות']]\n",
    "y = df['חודש למכור'].values\n",
    "y = y.astype(int)\n",
    "X_train, X_test, y_train, y_test = train_test_split( X, y, test_size=0.20, random_state=42)"
   ]
  },
  {
   "cell_type": "markdown",
   "id": "4e6b9acf",
   "metadata": {},
   "source": [
    "### Build Decision Tree Classifier"
   ]
  },
  {
   "cell_type": "code",
   "execution_count": 39,
   "id": "96b44318",
   "metadata": {},
   "outputs": [
    {
     "data": {
      "text/plain": [
       "DecisionTreeClassifier()"
      ]
     },
     "execution_count": 39,
     "metadata": {},
     "output_type": "execute_result"
    }
   ],
   "source": [
    "from sklearn.tree import DecisionTreeClassifier\n",
    "dt = DecisionTreeClassifier()\n",
    "dt.fit(X_train, y_train)"
   ]
  },
  {
   "cell_type": "markdown",
   "id": "d6d01f89",
   "metadata": {},
   "source": [
    "### Test Accuracy"
   ]
  },
  {
   "cell_type": "code",
   "execution_count": 40,
   "id": "dbe8641d",
   "metadata": {},
   "outputs": [
    {
     "name": "stdout",
     "output_type": "stream",
     "text": [
      "Test Accuracy: 0.2615384615384615\n"
     ]
    }
   ],
   "source": [
    "cv = 5\n",
    "n_jobs = 8\n",
    "test_accuracy = get_accuracy(dt, X_test, y_test,n_jobs)\n",
    "print('Test Accuracy:', test_accuracy)"
   ]
  },
  {
   "cell_type": "markdown",
   "id": "6bbce212",
   "metadata": {},
   "source": [
    "### Find the month will be the best to sell the apartment to make maximum profit."
   ]
  },
  {
   "cell_type": "code",
   "execution_count": 41,
   "id": "11d46367",
   "metadata": {},
   "outputs": [
    {
     "name": "stdout",
     "output_type": "stream",
     "text": [
      "The month will be the best to sell the apartment to make maximum profit:  5\n"
     ]
    }
   ],
   "source": [
    "best_month = dt.predict([[1000]])[0]\n",
    "print('The month will be the best to sell the apartment to make maximum profit: ', best_month)"
   ]
  },
  {
   "cell_type": "markdown",
   "id": "6c71c453",
   "metadata": {},
   "source": [
    "### Model Validation"
   ]
  },
  {
   "cell_type": "code",
   "execution_count": 42,
   "id": "61d6a7ea",
   "metadata": {},
   "outputs": [
    {
     "name": "stdout",
     "output_type": "stream",
     "text": [
      "[0.65217391 0.6548495  0.65752508 0.6626506  0.67068273]\n"
     ]
    },
    {
     "data": {
      "text/plain": [
       "Text(0.5, 1.0, 'Validation Accuracy')"
      ]
     },
     "execution_count": 42,
     "metadata": {},
     "output_type": "execute_result"
    },
    {
     "data": {
      "image/png": "[encoded data removed]",
      "text/plain": [
       "<Figure size 432x288 with 1 Axes>"
      ]
     },
     "metadata": {
      "needs_background": "light"
     },
     "output_type": "display_data"
    }
   ],
   "source": [
    "cv = 5\n",
    "n_jobs = 4\n",
    "valid_accuracy = get_validation_score(cv, n_jobs)\n",
    "\n",
    "index = np.arange(5) + 0.3\n",
    "print(valid_accuracy)\n",
    "plt.bar(index, valid_accuracy)\n",
    "plt.ylabel(\"accuracy\")\n",
    "plt.title('Validation Accuracy')"
   ]
  },
  {
   "cell_type": "code",
   "execution_count": null,
   "id": "602e17c6",
   "metadata": {},
   "outputs": [],
   "source": []
  }
 ],
 "metadata": {
  "kernelspec": {
   "display_name": "Python 3",
   "language": "python",
   "name": "python3"
  },
  "language_info": {
   "codemirror_mode": {
    "name": "ipython",
    "version": 3
   },
   "file_extension": ".py",
   "mimetype": "text/x-python",
   "name": "python",
   "nbconvert_exporter": "python",
   "pygments_lexer": "ipython3",
   "version": "3.8.8"
  }
 },
 "nbformat": 4,
 "nbformat_minor": 5
}
